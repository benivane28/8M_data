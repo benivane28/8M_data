{
  "nbformat": 4,
  "nbformat_minor": 0,
  "metadata": {
    "colab": {
      "provenance": [],
      "authorship_tag": "ABX9TyPGc9QQ7+CStWZI5LGbDqFp",
      "include_colab_link": true
    },
    "kernelspec": {
      "name": "python3",
      "display_name": "Python 3"
    },
    "language_info": {
      "name": "python"
    },
    "gpuClass": "standard"
  },
  "cells": [
    {
      "cell_type": "markdown",
      "metadata": {
        "id": "view-in-github",
        "colab_type": "text"
      },
      "source": [
        "<a href=\"https://colab.research.google.com/github/benivane28/8M_data/blob/main/Blastos_CNN.ipynb\" target=\"_parent\"><img src=\"https://colab.research.google.com/assets/colab-badge.svg\" alt=\"Open In Colab\"/></a>"
      ]
    },
    {
      "cell_type": "markdown",
      "source": [
        "## **Proyecto:** \n",
        "Identificar si una muestra de sangre presenta sospecha de presencia de Blastos (células no sanas) o no. Esto se espera obtener a partir de la construcción de un modelo de CNN, el cual aprenda a identificar\n",
        "las características a nivel morfológico de un blasto y de un no blasto. "
      ],
      "metadata": {
        "id": "3OdefdqfewOT"
      }
    },
    {
      "cell_type": "markdown",
      "source": [],
      "metadata": {
        "id": "i53aLEEQfgZ5"
      }
    },
    {
      "cell_type": "code",
      "source": [
        "import tensorflow as tf\n",
        "import matplotlib.pyplot as plt\n",
        "import cv2\n",
        "import numpy as np"
      ],
      "metadata": {
        "id": "wJ90oc0igDpY"
      },
      "execution_count": null,
      "outputs": []
    },
    {
      "cell_type": "code",
      "source": [
        "datos_entrenamiento , datos_pruebas = datos['train'],datos['test']"
      ],
      "metadata": {
        "id": "vKsvZ2jKgDsS"
      },
      "execution_count": null,
      "outputs": []
    },
    {
      "cell_type": "code",
      "source": [
        "#Mostrar imágenes\n",
        "plt.figure(figsize=(20,20))\n",
        "\n",
        "tamano_imagen = 100  #Tamaño de imagen que permita que la red no se tarde en entrenar y tampoco perdamos detalle (opcion bajarle los pixeles)\n",
        "\n",
        "for i, (imagen, etiqueta) in enumerate(datos['train'].take(25)):\n",
        "  imagen = cv2.resize(imagen.numpy(),(tamano_imagen, tamano_imagen))\n",
        "  #Editar color de imagen\n",
        "  imagen = cv2.cvtcolor(imagen, cv2.COLOR_BGR2GRAY)\n",
        "  plt.subplot(5,5,i+1)\n",
        "  plt.xticks([])\n",
        "  plt.yticks([])\n",
        "  plt.imshow(imagen, cmap='gray')"
      ],
      "metadata": {
        "id": "Y7jFLF3cgDug"
      },
      "execution_count": null,
      "outputs": []
    },
    {
      "cell_type": "code",
      "source": [
        "#Creamos  una iteracion que itere entre todos los datos de entrenamiento\n",
        "\n",
        "datos_entrenamiento = []\n",
        "\n",
        "for img , (imagen,etiqueta) in enumerate(datos['train']): #todos los datos\n",
        "  imagen = cv2.resize(imagen.numpy(),(tamano_imagen,tamano_imagen))\n",
        "  imagen = cv2.cvtColor(imagen, cv2.COLOR_BGR2GRAY)\n",
        "  imagen = imagen.reshape(tamano_imagen,tamano_imagen,1)\n",
        "  datos_entrenamiento.append([imagen,etiqueta])"
      ],
      "metadata": {
        "id": "zcBPL_amgDxe"
      },
      "execution_count": null,
      "outputs": []
    },
    {
      "cell_type": "code",
      "source": [
        "X = [] #Imagenes de entrada (pixeles)\n",
        "Y = [] #etiquetas (blasto o no blasto)\n",
        "\n",
        "for imagen, etiqueta in datos_entrenamiento:\n",
        "  X.append(imagen)\n",
        "  Y.append(etiqueta)"
      ],
      "metadata": {
        "id": "WIvWX5F4hr5h"
      },
      "execution_count": null,
      "outputs": []
    },
    {
      "cell_type": "code",
      "source": [
        "# Normalizamos con numpy, convertir los pixeles entre 0 y 1\n",
        "X = np.array(X).astype(float) / 255\n",
        "X.shape() #(cantidad de imagenes, tamaño1,tamaño2, escala de colores (es 1 si es escala de grises))"
      ],
      "metadata": {
        "id": "pFeUhs5wlcj6"
      },
      "execution_count": null,
      "outputs": []
    },
    {
      "cell_type": "code",
      "source": [
        "Y = np.array(Y)"
      ],
      "metadata": {
        "id": "XtxgtPyQl2lZ"
      },
      "execution_count": null,
      "outputs": []
    },
    {
      "cell_type": "code",
      "source": [
        "#Agregar a caché (usar memoria en vez de usar el disco, esto permite entrenamiento más rápido)\n",
        "datos_entrenamiento = datos_entrenamiento.cache()\n",
        "datos_prueba = datos_prueba.cache()"
      ],
      "metadata": {
        "id": "z7l82lltq-X5"
      },
      "execution_count": null,
      "outputs": []
    },
    {
      "cell_type": "code",
      "source": [
        "#ARQUITECTURA E HIPERPARÁMETROS\n",
        "#Modelo 1\n",
        "\n",
        "modeloDenso = tf.keras.models.Sequential([\n",
        "    tf.keras.layers.Flatten(input_shape=(100,100,1)), #flatter aplasta las neuronas, numero 1 indica blaco y negro\n",
        "    tf.keras.layers.Dense(150,activation='relu'),\n",
        "    tf.keras.layers.Dense(150, activation = 'relu'),\n",
        "    tf.keras.layers.Dense(1,activation = 'sigmoid')\n",
        "])\n",
        "\n"
      ],
      "metadata": {
        "id": "zEP5whPcmHVd"
      },
      "execution_count": null,
      "outputs": []
    }
  ]
}